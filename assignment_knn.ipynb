{
  "cells": [
    {
      "cell_type": "markdown",
      "id": "f7ef20f0-722f-4240-8a79-437d4a3b8832",
      "metadata": {
        "id": "f7ef20f0-722f-4240-8a79-437d4a3b8832"
      },
      "source": [
        "## Assignment 3: $k$ Nearest Neighbor\n",
        "\n",
        "**Do two questions.**\n",
        "\n",
        "`! git clone https://github.com/DS3001/knn`"
      ]
    },
    {
      "cell_type": "markdown",
      "id": "71c9e0b8-17f5-4ff9-9c76-2034bffe8d5c",
      "metadata": {
        "id": "71c9e0b8-17f5-4ff9-9c76-2034bffe8d5c"
      },
      "source": [
        "**Q1.** This question is a case study for $k$ nearest neighbor The target variable `y` is `price` and the features are `year` and `mileage`.\n",
        "\n",
        "1. Load the `./data/USA_cars_datasets.csv`. Keep the following variables and drop the rest: `price`, `year`, `mileage`. Are there any `NA`'s to handle? Look at the head and dimensions of the data.\n",
        "2. Maxmin normalize `year` and `mileage`.\n",
        "3. Split the sample into ~80% for training and ~20% for evaluation.\n",
        "4. Use the $k$NN algorithm and the training data to predict `price` using `year` and `mileage` for the test set for $k=3,10,25,50,100,300$. For each value of $k$, compute the mean squared error and print a scatterplot showing the test value plotted against the predicted value. What patterns do you notice as you increase $k$?\n",
        "5. Determine the optimal $k$ for these data.\n",
        "6. Describe what happened in the plots of predicted versus actual prices as $k$ varied, taking your answer into part 6 into account. (Hint: Use the words \"underfitting\" and \"overfitting\".)"
      ]
    },
    {
      "cell_type": "markdown",
      "source": [
        "1. Load the ./data/USA_cars_datasets.csv. Keep the following variables and drop the rest: price, year, mileage. Are there any NA's to handle? Look at the head and dimensions of the data."
      ],
      "metadata": {
        "id": "4x3Y4mrNfGlR"
      },
      "id": "4x3Y4mrNfGlR"
    },
    {
      "cell_type": "code",
      "source": [
        "! git clone https://github.com/DS3001/knn"
      ],
      "metadata": {
        "colab": {
          "base_uri": "https://localhost:8080/"
        },
        "id": "lCZ1bgMufFGn",
        "outputId": "8f1289b4-7c4d-438f-d73e-00560d4fe576"
      },
      "id": "lCZ1bgMufFGn",
      "execution_count": 1,
      "outputs": [
        {
          "output_type": "stream",
          "name": "stdout",
          "text": [
            "Cloning into 'knn'...\n",
            "remote: Enumerating objects: 40, done.\u001b[K\n",
            "remote: Counting objects: 100% (15/15), done.\u001b[K\n",
            "remote: Compressing objects: 100% (13/13), done.\u001b[K\n",
            "remote: Total 40 (delta 10), reused 2 (delta 2), pack-reused 25\u001b[K\n",
            "Receiving objects: 100% (40/40), 11.00 MiB | 14.06 MiB/s, done.\n",
            "Resolving deltas: 100% (13/13), done.\n"
          ]
        }
      ]
    },
    {
      "cell_type": "code",
      "source": [
        "import pandas as pd  # Import the pandas package into workspace\n",
        "import seaborn as sns # Import the seaborn package into workspace\n",
        "import numpy as np # Import the seaborn package into workspace\n",
        "df = pd.read_csv('/content/knn/data/USA_cars_datasets.csv',low_memory=False) # load csv into df"
      ],
      "metadata": {
        "id": "4PBESllUfKzt"
      },
      "id": "4PBESllUfKzt",
      "execution_count": 6,
      "outputs": []
    },
    {
      "cell_type": "code",
      "source": [
        "df = df.loc[:,('price', 'year', 'mileage')] # setting df to price, year, mileage variables only"
      ],
      "metadata": {
        "id": "QMMXrIRTgGIW"
      },
      "id": "QMMXrIRTgGIW",
      "execution_count": 7,
      "outputs": []
    },
    {
      "cell_type": "code",
      "source": [
        "print(df['price'].value_counts(), '\\n') # display the counts of each of the unique values for price\n",
        "print(df['year'].value_counts(), '\\n') # display the counts of each of the unique values for year\n",
        "print(df['mileage'].value_counts(), '\\n') # display the counts of each of the unique values for mileage\n",
        "\n",
        "# The NA's to handle in price are the 0's\n",
        "# There aren't any NA's in year\n",
        "# The NA's in mileage are the 0's and 1's"
      ],
      "metadata": {
        "colab": {
          "base_uri": "https://localhost:8080/"
        },
        "id": "KgG4s_OVhE3X",
        "outputId": "773b51aa-6d36-4568-9b27-1059460ba2d3"
      },
      "id": "KgG4s_OVhE3X",
      "execution_count": 8,
      "outputs": [
        {
          "output_type": "stream",
          "name": "stdout",
          "text": [
            "0        43\n",
            "16500    26\n",
            "13900    21\n",
            "15500    19\n",
            "15000    19\n",
            "         ..\n",
            "12560     1\n",
            "11760     1\n",
            "7340      1\n",
            "6530      1\n",
            "30100     1\n",
            "Name: price, Length: 790, dtype: int64 \n",
            "\n",
            "2019    892\n",
            "2018    395\n",
            "2017    377\n",
            "2016    203\n",
            "2015    196\n",
            "2014    104\n",
            "2013     86\n",
            "2012     72\n",
            "2020     48\n",
            "2011     23\n",
            "2008     18\n",
            "2010     13\n",
            "2009     11\n",
            "2003      9\n",
            "2006      8\n",
            "2004      6\n",
            "2007      6\n",
            "2005      6\n",
            "2001      5\n",
            "1998      4\n",
            "2000      4\n",
            "2002      2\n",
            "1994      2\n",
            "1997      2\n",
            "1996      2\n",
            "1973      1\n",
            "1999      1\n",
            "1984      1\n",
            "1995      1\n",
            "1993      1\n",
            "Name: year, dtype: int64 \n",
            "\n",
            "1        11\n",
            "0         6\n",
            "31727     2\n",
            "33808     2\n",
            "21774     2\n",
            "         ..\n",
            "90685     1\n",
            "54141     1\n",
            "82240     1\n",
            "66167     1\n",
            "31371     1\n",
            "Name: mileage, Length: 2439, dtype: int64 \n",
            "\n"
          ]
        }
      ]
    },
    {
      "cell_type": "code",
      "source": [
        "price = df['price'] # created a variable for the price column\n",
        "price = price.replace(0, np.nan) # replace all 0's to NaN for price"
      ],
      "metadata": {
        "id": "8L8NHPpe8EpD"
      },
      "id": "8L8NHPpe8EpD",
      "execution_count": 9,
      "outputs": []
    },
    {
      "cell_type": "code",
      "source": [
        "print(price.unique(), '\\n')# display all of the unique values in the price variable\n",
        "price.value_counts() # display the count of each of the unique values in the price variable"
      ],
      "metadata": {
        "id": "wUmryT6_8__1",
        "outputId": "bfb5e8ee-7ab3-4bed-9c7e-8d09621f4a41",
        "colab": {
          "base_uri": "https://localhost:8080/"
        }
      },
      "id": "wUmryT6_8__1",
      "execution_count": 10,
      "outputs": [
        {
          "output_type": "stream",
          "name": "stdout",
          "text": [
            "[6.3000e+03 2.8990e+03 5.3500e+03 2.5000e+04 2.7700e+04 5.7000e+03\n",
            " 7.3000e+03 1.3350e+04 1.4600e+04 5.2500e+03 1.0400e+04 1.2920e+04\n",
            " 3.1900e+04 5.4300e+03 2.0700e+04 1.2710e+04 5.2000e+03 1.6500e+04\n",
            " 5.2100e+03 3.8100e+04 1.2520e+04 1.5000e+04 6.1800e+03 2.0800e+04\n",
            " 1.1900e+04 2.1500e+04 1.2000e+04 4.1900e+03 1.3000e+04 1.8500e+04\n",
            " 2.9800e+04 5.3300e+03 1.6600e+04 1.9200e+04 7.3200e+03 7.0000e+03\n",
            " 3.0500e+04 6.3300e+03 5.5000e+04 1.6200e+04 1.9000e+04 5.5800e+03\n",
            " 5.4000e+04 1.6000e+04 2.7000e+04 7.7600e+03 1.9600e+04 2.0000e+04\n",
            " 1.8100e+04 2.3000e+04 1.3490e+04 1.7800e+04 6.6500e+03 2.9100e+04\n",
            " 2.1100e+04 1.8600e+04 4.3400e+03 1.9300e+04 1.2780e+04 1.5800e+04\n",
            " 2.9400e+04 4.4300e+03 1.9400e+04 1.5900e+04 2.6400e+04 4.1400e+03\n",
            " 1.8300e+04 1.7900e+04 4.6400e+03 2.4000e+04 1.3200e+04 1.8000e+04\n",
            " 1.4900e+04 1.1500e+04 9.1100e+03 7.3500e+03 2.4500e+04 9.3000e+03\n",
            " 3.9800e+04 5.3500e+04 1.5110e+04 3.4000e+04 2.6502e+04 5.9900e+03\n",
            " 1.3600e+04 2.3605e+04 1.0780e+04 1.3800e+04 2.5201e+04 7.0700e+03\n",
            " 8.7000e+03 1.8003e+04 8.5300e+03 2.3100e+04 1.7000e+04 3.4002e+04\n",
            " 6.9800e+03 2.0802e+04 9.2000e+03 2.6500e+04 2.4802e+04 2.8500e+04\n",
            " 4.7500e+04 2.3500e+04 2.3505e+04 1.0940e+04 3.2100e+04 5.3000e+04\n",
            " 6.8300e+03 2.6414e+04 4.1600e+03 1.9405e+04 5.6900e+03 2.5900e+04\n",
            " 2.4005e+04 5.0900e+03 1.9500e+04 3.2012e+04 6.8000e+03 4.2600e+03\n",
            "        nan 3.1802e+04 7.2100e+03 2.8402e+04 3.3300e+04 6.7000e+03\n",
            " 6.4400e+03 1.9900e+04 3.7000e+04 4.0400e+03 2.2300e+04 3.1200e+04\n",
            " 4.2900e+03 2.2800e+04 1.9002e+04 3.9000e+04 6.0600e+03 2.8800e+04\n",
            " 4.0000e+04 6.1400e+03 2.1000e+04 2.0105e+04 6.7600e+03 2.5800e+04\n",
            " 5.4700e+03 2.4502e+04 7.9000e+03 2.7305e+04 1.5290e+04 2.5502e+04\n",
            " 3.8000e+03 1.4000e+03 1.8402e+04 1.7500e+02 2.4503e+04 1.5840e+04\n",
            " 2.0500e+04 2.1003e+04 4.2000e+03 1.7400e+04 3.2001e+04 1.5700e+04\n",
            " 3.1009e+04 3.7400e+03 5.0000e+03 3.1002e+04 3.1600e+03 8.6000e+03\n",
            " 6.0000e+03 1.2990e+04 2.5000e+01 4.4100e+03 2.2500e+04 7.4200e+03\n",
            " 1.3500e+04 1.5500e+04 3.5400e+03 4.5500e+04 4.1300e+03 1.6300e+04\n",
            " 4.5300e+03 1.5600e+04 4.1000e+03 1.8200e+04 1.0200e+04 4.0800e+03\n",
            " 1.7000e+03 6.2000e+03 3.6500e+03 1.0500e+04 4.3500e+04 4.6100e+03\n",
            " 3.4500e+03 3.8500e+04 6.8100e+03 2.9000e+03 4.4500e+03 5.8000e+03\n",
            " 4.2400e+03 1.3700e+04 8.0000e+03 1.4200e+04 7.0400e+03 4.7000e+03\n",
            " 3.0851e+04 4.8800e+03 1.4500e+04 7.6000e+03 1.3270e+04 1.2800e+04\n",
            " 3.3000e+04 9.2800e+03 9.0000e+02 7.5600e+03 1.7100e+04 8.0200e+03\n",
            " 1.0300e+04 2.2600e+04 1.0480e+04 2.2700e+04 7.4100e+03 7.5700e+03\n",
            " 6.7000e+04 1.8900e+04 1.2560e+04 1.1760e+04 3.1700e+04 7.3400e+03\n",
            " 8.2000e+03 3.0000e+03 6.5300e+03 1.2700e+04 7.2500e+02 7.4000e+03\n",
            " 9.8000e+03 4.4000e+03 1.0330e+04 1.8000e+03 5.0000e+01 7.2000e+02\n",
            " 2.5000e+03 9.1900e+03 1.0900e+04 2.2809e+04 5.5200e+03 2.3200e+03\n",
            " 2.3702e+04 4.0500e+03 1.4810e+04 2.9600e+03 2.4800e+04 6.2700e+03\n",
            " 1.8800e+03 1.0050e+04 2.2500e+02 2.6900e+04 1.4200e+03 2.7003e+04\n",
            " 3.5000e+02 5.6000e+03 6.6800e+03 1.0120e+04 3.9200e+03 5.6300e+03\n",
            " 2.8000e+03 8.8500e+03 1.8712e+04 2.2200e+03 6.9300e+03 3.4400e+03\n",
            " 5.0412e+04 9.5000e+02 9.2700e+03 1.1380e+04 2.7250e+03 3.7900e+03\n",
            " 4.0514e+04 1.0000e+03 2.9250e+03 3.8300e+03 4.3402e+04 1.0250e+03\n",
            " 1.7200e+04 5.4680e+04 6.9400e+03 1.3080e+04 1.0630e+04 4.3009e+04\n",
            " 4.6000e+03 4.9500e+03 3.7600e+03 3.9000e+03 6.2400e+03 4.1500e+03\n",
            " 6.1200e+04 6.4900e+03 5.1502e+04 2.5000e+02 8.1600e+03 7.7700e+03\n",
            " 2.0000e+02 1.8250e+03 9.2100e+03 5.8500e+04 1.2500e+02 3.9600e+03\n",
            " 5.9980e+03 3.7000e+03 1.5050e+04 3.6300e+04 5.5600e+04 2.6300e+03\n",
            " 4.5000e+02 2.0400e+04 4.3200e+03 3.3001e+04 1.0000e+04 5.7900e+03\n",
            " 1.4750e+04 4.0100e+03 3.5500e+03 3.0400e+03 3.6400e+04 4.4800e+03\n",
            " 3.1003e+04 7.5000e+01 4.6900e+03 4.6900e+04 1.0740e+04 2.7102e+04\n",
            " 5.0000e+02 5.1000e+03 1.5010e+04 2.3200e+04 3.3900e+03 3.1400e+03\n",
            " 1.0440e+04 2.3911e+04 2.1400e+04 5.3800e+03 1.1000e+04 3.0300e+04\n",
            " 2.3000e+03 4.3100e+03 2.6012e+04 4.8500e+04 3.3300e+03 1.1200e+04\n",
            " 4.7300e+03 2.4900e+04 8.3500e+03 4.7500e+02 3.2100e+03 8.4300e+03\n",
            " 2.5503e+04 2.6000e+04 8.6100e+03 2.8000e+04 8.4900e+04 1.0840e+04\n",
            " 1.0000e+02 1.1050e+04 3.5700e+03 2.5001e+04 1.1100e+04 4.6500e+03\n",
            " 3.8200e+03 2.9502e+04 6.1600e+03 1.0910e+04 3.8100e+03 3.0200e+03\n",
            " 2.0000e+03 3.8700e+03 2.4811e+04 5.4200e+03 4.7500e+03 1.2000e+03\n",
            " 6.4700e+03 3.2500e+04 6.9000e+03 1.1030e+04 3.4600e+03 3.2500e+03\n",
            " 2.7705e+04 7.2000e+03 2.8714e+04 2.7502e+04 2.9314e+04 2.7002e+04\n",
            " 2.8214e+04 2.9900e+04 2.7202e+04 1.4700e+04 4.5000e+03 2.5511e+04\n",
            " 7.7000e+03 2.7402e+04 1.5000e+03 2.6602e+04 1.4000e+04 2.9809e+04\n",
            " 3.6900e+04 2.6902e+04 1.0950e+04 1.6900e+04 2.5600e+04 2.9700e+04\n",
            " 2.7702e+04 2.5811e+04 3.7500e+04 2.6211e+04 2.4205e+04 2.7111e+04\n",
            " 2.7411e+04 2.7302e+04 2.6311e+04 3.3500e+04 2.7511e+04 2.7200e+04\n",
            " 2.6511e+04 2.4002e+04 1.8511e+04 2.9000e+04 2.3402e+04 1.3300e+04\n",
            " 1.9700e+04 2.3211e+04 1.8111e+04 1.7700e+04 2.1700e+04 3.5500e+04\n",
            " 2.9500e+04 2.5300e+04 3.5300e+04 6.2000e+04 4.6000e+04 9.0000e+03\n",
            " 4.7400e+04 2.4400e+04 3.3100e+04 2.2000e+04 3.5000e+04 1.1600e+04\n",
            " 2.8100e+04 6.3200e+04 3.6800e+04 3.8800e+04 3.1100e+04 2.2400e+04\n",
            " 3.7100e+04 3.2800e+04 1.2300e+04 9.4000e+03 2.3800e+04 3.1600e+04\n",
            " 4.6800e+04 2.1800e+04 3.1500e+04 3.4500e+04 1.0700e+04 1.3400e+04\n",
            " 1.4100e+04 3.8600e+04 9.1000e+03 8.9000e+03 3.3000e+03 1.7300e+04\n",
            " 3.4800e+04 3.2200e+04 3.3200e+04 2.4300e+04 2.7500e+04 1.0800e+04\n",
            " 1.1400e+04 4.2700e+04 2.1200e+04 9.6000e+03 3.5100e+04 2.6300e+04\n",
            " 1.7600e+04 1.9100e+04 1.5200e+04 1.6100e+04 1.4800e+04 1.6700e+04\n",
            " 1.5300e+04 6.5000e+03 2.8300e+04 2.7300e+04 3.5000e+03 8.3000e+03\n",
            " 3.0000e+04 2.1600e+04 2.2100e+04 1.4300e+04 4.3400e+04 1.2500e+04\n",
            " 1.3900e+04 1.7500e+04 1.8700e+04 2.7900e+04 7.5000e+03 2.0200e+04\n",
            " 2.9300e+04 3.1000e+04 3.2400e+04 2.3300e+04 6.1000e+03 5.2000e+04\n",
            " 3.6000e+04 1.2995e+04 1.7750e+04 1.0295e+04 1.6995e+04 2.3995e+04\n",
            " 1.5810e+04 2.0227e+04 2.0999e+04 2.2499e+04 2.3495e+04 2.5250e+04\n",
            " 1.5322e+04 2.1232e+04 8.5000e+03 2.8700e+04 7.1000e+03 3.0700e+04\n",
            " 1.5400e+04 2.5200e+04 1.3100e+04 2.8400e+04 2.0300e+04 1.3000e+03\n",
            " 1.7500e+03 1.6800e+04 1.1800e+04 2.7100e+04 2.2000e+03 1.8800e+04\n",
            " 8.4000e+03 4.9000e+03 2.1900e+04 1.3750e+04 1.6400e+04 1.5100e+04\n",
            " 3.4100e+04 3.3800e+04 2.9600e+04 2.7800e+04 1.8400e+04 3.2000e+04\n",
            " 2.6800e+04 8.0000e+02 1.9000e+03 3.6000e+03 2.7000e+03 9.7000e+03\n",
            " 4.8000e+04 5.4500e+04 5.5000e+03 2.5500e+04 2.5700e+04 2.8200e+04\n",
            " 4.2500e+04 3.6500e+04 2.0900e+04 2.0100e+04 2.6700e+04 2.3900e+04\n",
            " 1.7347e+04 2.5888e+04 2.1289e+04 1.7999e+04 3.0977e+04 1.3799e+04\n",
            " 9.9000e+03 6.5500e+04 3.6200e+04 3.2000e+03 8.7500e+03 1.1975e+04\n",
            " 2.3600e+04 3.0900e+04 4.0400e+04 3.8000e+04 2.3700e+04 5.4900e+04\n",
            " 2.4700e+04 3.8200e+04 2.3400e+04 5.0500e+04 4.9000e+04 2.5400e+04\n",
            " 3.5200e+04 5.6700e+04 4.0200e+04 6.5200e+04 6.3000e+04 4.4000e+04\n",
            " 7.0000e+04 5.6200e+04 5.7700e+04 7.4000e+04 6.0200e+04 6.0000e+04\n",
            " 4.1500e+04 2.8600e+04 4.6500e+04 3.9500e+04 4.6700e+04 4.2800e+04\n",
            " 3.0200e+04 2.5100e+04 5.6500e+04 3.4300e+04 3.7200e+04 3.1800e+04\n",
            " 4.6300e+04 4.5000e+04 4.9500e+04 4.0000e+03 4.7000e+04 5.0000e+04\n",
            " 4.7300e+04 7.8050e+03 4.4500e+04 3.5700e+04 4.3600e+04 2.2900e+04\n",
            " 7.8000e+03 9.5000e+03 1.2100e+04 2.4100e+04 1.2400e+04 3.9700e+04\n",
            " 3.8700e+04 3.7700e+04 2.2200e+04 3.9950e+04 3.7600e+04 1.8288e+04\n",
            " 3.6600e+04 1.8299e+04 3.0995e+04 6.5000e+02 1.1300e+04 3.2700e+04\n",
            " 1.3500e+03 1.1700e+04 1.1500e+03 2.0600e+04 4.8400e+04 4.6200e+04\n",
            " 2.7600e+04 2.1000e+03 3.3700e+04 3.3400e+04 3.0600e+04 1.4400e+04\n",
            " 4.0600e+04 4.3900e+04 6.4000e+03 4.1100e+04 4.0900e+04 3.9200e+04\n",
            " 2.4200e+04 1.2600e+04 5.3000e+03 2.4600e+04 4.1200e+04 4.9900e+04\n",
            " 3.4400e+04 1.0100e+04 4.2300e+04 5.1000e+04 4.5600e+04 1.9990e+04\n",
            " 3.0999e+04 4.1000e+04 2.7999e+04 4.2000e+04 2.9795e+04 1.3995e+04\n",
            " 3.5400e+04 2.4549e+04 2.4970e+04 2.5800e+03 5.9975e+04 2.8990e+04\n",
            " 4.6999e+04 3.4700e+04 2.8900e+04 3.0800e+04 1.3388e+04 1.7250e+03\n",
            " 3.3995e+04 2.4190e+04 1.9888e+04 2.4857e+04 2.6100e+04 2.0995e+04\n",
            " 1.9498e+04 1.9995e+04 2.6985e+04 3.4995e+04 1.9440e+04 2.0950e+04\n",
            " 2.8250e+03 3.2999e+04 6.6000e+03 5.0200e+04 3.5999e+04 1.8799e+04\n",
            " 3.3999e+04 2.5998e+04 3.1831e+04 2.5995e+04 2.7990e+04 2.3985e+04\n",
            " 2.7995e+04 2.9988e+04 2.1687e+04 2.9590e+04 2.8999e+04 1.3942e+04\n",
            " 1.8500e+03 1.5495e+04 1.7589e+04 3.1790e+04 1.4495e+04 2.3999e+04\n",
            " 1.6488e+04 1.2784e+04 9.7050e+03 2.5999e+04 3.4977e+04 1.5995e+04\n",
            " 1.3487e+04 1.8707e+04 1.6080e+04 1.5268e+04 1.8497e+04 1.7150e+04\n",
            " 1.4295e+04 1.6190e+04 1.7899e+04 1.6888e+04 8.3050e+03 2.1822e+04\n",
            " 1.4488e+04 2.1995e+04 1.6593e+04 1.4247e+04 1.6999e+04 2.0159e+04\n",
            " 5.9900e+04 8.2500e+02 2.6200e+04 2.6550e+04 5.6000e+04 4.5800e+04\n",
            " 1.1450e+04 1.0850e+04 1.0450e+04 1.2200e+04 5.9000e+03 1.9800e+04\n",
            " 8.8000e+03 7.5000e+02 1.2800e+03 6.0000e+02 6.9980e+03 7.9980e+03\n",
            " 1.0999e+04 8.4950e+03 1.9925e+04 1.2750e+04 1.1621e+04 1.1590e+04\n",
            " 1.1390e+04 1.2900e+04 1.0600e+04 2.4250e+03 9.2500e+02 3.7500e+02\n",
            " 4.8000e+03 5.4750e+03 1.9500e+03 3.0100e+04] \n",
            "\n"
          ]
        },
        {
          "output_type": "execute_result",
          "data": {
            "text/plain": [
              "16500.0    26\n",
              "13900.0    21\n",
              "15500.0    19\n",
              "15000.0    19\n",
              "22500.0    18\n",
              "           ..\n",
              "12560.0     1\n",
              "11760.0     1\n",
              "7340.0      1\n",
              "6530.0      1\n",
              "30100.0     1\n",
              "Name: price, Length: 789, dtype: int64"
            ]
          },
          "metadata": {},
          "execution_count": 10
        }
      ]
    },
    {
      "cell_type": "code",
      "source": [
        "df['price'] = price # change the unclean price column to the cleaned price variable\n",
        "del price # deleting price variable\n",
        "\n",
        "print(df.loc[0:5,'price'],'\\n') # printing first 6 rows of price column"
      ],
      "metadata": {
        "id": "dux4o5dO9p-K",
        "outputId": "3ebcde5b-cbe6-4033-90c5-6b9970367068",
        "colab": {
          "base_uri": "https://localhost:8080/"
        }
      },
      "id": "dux4o5dO9p-K",
      "execution_count": 11,
      "outputs": [
        {
          "output_type": "stream",
          "name": "stdout",
          "text": [
            "0     6300.0\n",
            "1     2899.0\n",
            "2     5350.0\n",
            "3    25000.0\n",
            "4    27700.0\n",
            "5     5700.0\n",
            "Name: price, dtype: float64 \n",
            "\n"
          ]
        }
      ]
    },
    {
      "cell_type": "code",
      "source": [
        "miles = df['mileage'] # created a variable for the mileage column\n",
        "miles = miles.replace({0, 1}, np.nan) # replace all 0's to NaN for miles"
      ],
      "metadata": {
        "id": "-uqpd5fM93_T"
      },
      "id": "-uqpd5fM93_T",
      "execution_count": 12,
      "outputs": []
    },
    {
      "cell_type": "code",
      "source": [
        "print(miles.unique(), '\\n')# display all of the unique values in the miles variable\n",
        "miles.value_counts() # display the count of each of the unique values in the miles variable"
      ],
      "metadata": {
        "id": "OqCeZDYn-NpW",
        "outputId": "1c38c71e-2ac9-4582-f05c-b8d097c6d4b4",
        "colab": {
          "base_uri": "https://localhost:8080/"
        }
      },
      "id": "OqCeZDYn-NpW",
      "execution_count": 13,
      "outputs": [
        {
          "output_type": "stream",
          "name": "stdout",
          "text": [
            "[274117. 190552.  39590. ...  34553.  32557.  31371.] \n",
            "\n"
          ]
        },
        {
          "output_type": "execute_result",
          "data": {
            "text/plain": [
              "40455.0    2\n",
              "36064.0    2\n",
              "33739.0    2\n",
              "39985.0    2\n",
              "34165.0    2\n",
              "          ..\n",
              "90685.0    1\n",
              "54141.0    1\n",
              "82240.0    1\n",
              "66167.0    1\n",
              "31371.0    1\n",
              "Name: mileage, Length: 2437, dtype: int64"
            ]
          },
          "metadata": {},
          "execution_count": 13
        }
      ]
    },
    {
      "cell_type": "code",
      "source": [
        "df['mileage'] = miles # change the unclean mileage column to the cleaned miles variable\n",
        "del miles # deleting price variable\n",
        "\n",
        "print(df.loc[0:5,'mileage'],'\\n') # printing first 6 rows of mileage column"
      ],
      "metadata": {
        "id": "8aoAoMwQ-eZR",
        "outputId": "35c35d05-43d1-4efc-b6e2-7172b40cfdab",
        "colab": {
          "base_uri": "https://localhost:8080/"
        }
      },
      "id": "8aoAoMwQ-eZR",
      "execution_count": 14,
      "outputs": [
        {
          "output_type": "stream",
          "name": "stdout",
          "text": [
            "0    274117.0\n",
            "1    190552.0\n",
            "2     39590.0\n",
            "3     64146.0\n",
            "4      6654.0\n",
            "5     45561.0\n",
            "Name: mileage, dtype: float64 \n",
            "\n"
          ]
        }
      ]
    },
    {
      "cell_type": "code",
      "source": [
        "print(df.shape, '\\n') # List the dimensions of df\n",
        "df.head() #looking at the head of the data"
      ],
      "metadata": {
        "id": "J-K2_eCa_o1t",
        "outputId": "63a1628e-d781-4445-9cf0-9a7066010b63",
        "colab": {
          "base_uri": "https://localhost:8080/",
          "height": 241
        }
      },
      "id": "J-K2_eCa_o1t",
      "execution_count": 18,
      "outputs": [
        {
          "output_type": "stream",
          "name": "stdout",
          "text": [
            "(2499, 3) \n",
            "\n"
          ]
        },
        {
          "output_type": "execute_result",
          "data": {
            "text/plain": [
              "     price  year   mileage\n",
              "0   6300.0  2008  274117.0\n",
              "1   2899.0  2011  190552.0\n",
              "2   5350.0  2018   39590.0\n",
              "3  25000.0  2014   64146.0\n",
              "4  27700.0  2018    6654.0"
            ],
            "text/html": [
              "\n",
              "  <div id=\"df-321337f9-7334-484a-a17e-ad9e78da7fd4\" class=\"colab-df-container\">\n",
              "    <div>\n",
              "<style scoped>\n",
              "    .dataframe tbody tr th:only-of-type {\n",
              "        vertical-align: middle;\n",
              "    }\n",
              "\n",
              "    .dataframe tbody tr th {\n",
              "        vertical-align: top;\n",
              "    }\n",
              "\n",
              "    .dataframe thead th {\n",
              "        text-align: right;\n",
              "    }\n",
              "</style>\n",
              "<table border=\"1\" class=\"dataframe\">\n",
              "  <thead>\n",
              "    <tr style=\"text-align: right;\">\n",
              "      <th></th>\n",
              "      <th>price</th>\n",
              "      <th>year</th>\n",
              "      <th>mileage</th>\n",
              "    </tr>\n",
              "  </thead>\n",
              "  <tbody>\n",
              "    <tr>\n",
              "      <th>0</th>\n",
              "      <td>6300.0</td>\n",
              "      <td>2008</td>\n",
              "      <td>274117.0</td>\n",
              "    </tr>\n",
              "    <tr>\n",
              "      <th>1</th>\n",
              "      <td>2899.0</td>\n",
              "      <td>2011</td>\n",
              "      <td>190552.0</td>\n",
              "    </tr>\n",
              "    <tr>\n",
              "      <th>2</th>\n",
              "      <td>5350.0</td>\n",
              "      <td>2018</td>\n",
              "      <td>39590.0</td>\n",
              "    </tr>\n",
              "    <tr>\n",
              "      <th>3</th>\n",
              "      <td>25000.0</td>\n",
              "      <td>2014</td>\n",
              "      <td>64146.0</td>\n",
              "    </tr>\n",
              "    <tr>\n",
              "      <th>4</th>\n",
              "      <td>27700.0</td>\n",
              "      <td>2018</td>\n",
              "      <td>6654.0</td>\n",
              "    </tr>\n",
              "  </tbody>\n",
              "</table>\n",
              "</div>\n",
              "    <div class=\"colab-df-buttons\">\n",
              "\n",
              "  <div class=\"colab-df-container\">\n",
              "    <button class=\"colab-df-convert\" onclick=\"convertToInteractive('df-321337f9-7334-484a-a17e-ad9e78da7fd4')\"\n",
              "            title=\"Convert this dataframe to an interactive table.\"\n",
              "            style=\"display:none;\">\n",
              "\n",
              "  <svg xmlns=\"http://www.w3.org/2000/svg\" height=\"24px\" viewBox=\"0 -960 960 960\">\n",
              "    <path d=\"M120-120v-720h720v720H120Zm60-500h600v-160H180v160Zm220 220h160v-160H400v160Zm0 220h160v-160H400v160ZM180-400h160v-160H180v160Zm440 0h160v-160H620v160ZM180-180h160v-160H180v160Zm440 0h160v-160H620v160Z\"/>\n",
              "  </svg>\n",
              "    </button>\n",
              "\n",
              "  <style>\n",
              "    .colab-df-container {\n",
              "      display:flex;\n",
              "      gap: 12px;\n",
              "    }\n",
              "\n",
              "    .colab-df-convert {\n",
              "      background-color: #E8F0FE;\n",
              "      border: none;\n",
              "      border-radius: 50%;\n",
              "      cursor: pointer;\n",
              "      display: none;\n",
              "      fill: #1967D2;\n",
              "      height: 32px;\n",
              "      padding: 0 0 0 0;\n",
              "      width: 32px;\n",
              "    }\n",
              "\n",
              "    .colab-df-convert:hover {\n",
              "      background-color: #E2EBFA;\n",
              "      box-shadow: 0px 1px 2px rgba(60, 64, 67, 0.3), 0px 1px 3px 1px rgba(60, 64, 67, 0.15);\n",
              "      fill: #174EA6;\n",
              "    }\n",
              "\n",
              "    .colab-df-buttons div {\n",
              "      margin-bottom: 4px;\n",
              "    }\n",
              "\n",
              "    [theme=dark] .colab-df-convert {\n",
              "      background-color: #3B4455;\n",
              "      fill: #D2E3FC;\n",
              "    }\n",
              "\n",
              "    [theme=dark] .colab-df-convert:hover {\n",
              "      background-color: #434B5C;\n",
              "      box-shadow: 0px 1px 3px 1px rgba(0, 0, 0, 0.15);\n",
              "      filter: drop-shadow(0px 1px 2px rgba(0, 0, 0, 0.3));\n",
              "      fill: #FFFFFF;\n",
              "    }\n",
              "  </style>\n",
              "\n",
              "    <script>\n",
              "      const buttonEl =\n",
              "        document.querySelector('#df-321337f9-7334-484a-a17e-ad9e78da7fd4 button.colab-df-convert');\n",
              "      buttonEl.style.display =\n",
              "        google.colab.kernel.accessAllowed ? 'block' : 'none';\n",
              "\n",
              "      async function convertToInteractive(key) {\n",
              "        const element = document.querySelector('#df-321337f9-7334-484a-a17e-ad9e78da7fd4');\n",
              "        const dataTable =\n",
              "          await google.colab.kernel.invokeFunction('convertToInteractive',\n",
              "                                                    [key], {});\n",
              "        if (!dataTable) return;\n",
              "\n",
              "        const docLinkHtml = 'Like what you see? Visit the ' +\n",
              "          '<a target=\"_blank\" href=https://colab.research.google.com/notebooks/data_table.ipynb>data table notebook</a>'\n",
              "          + ' to learn more about interactive tables.';\n",
              "        element.innerHTML = '';\n",
              "        dataTable['output_type'] = 'display_data';\n",
              "        await google.colab.output.renderOutput(dataTable, element);\n",
              "        const docLink = document.createElement('div');\n",
              "        docLink.innerHTML = docLinkHtml;\n",
              "        element.appendChild(docLink);\n",
              "      }\n",
              "    </script>\n",
              "  </div>\n",
              "\n",
              "\n",
              "<div id=\"df-098876ca-0a34-4d0a-86fb-0a7321d8fe92\">\n",
              "  <button class=\"colab-df-quickchart\" onclick=\"quickchart('df-098876ca-0a34-4d0a-86fb-0a7321d8fe92')\"\n",
              "            title=\"Suggest charts\"\n",
              "            style=\"display:none;\">\n",
              "\n",
              "<svg xmlns=\"http://www.w3.org/2000/svg\" height=\"24px\"viewBox=\"0 0 24 24\"\n",
              "     width=\"24px\">\n",
              "    <g>\n",
              "        <path d=\"M19 3H5c-1.1 0-2 .9-2 2v14c0 1.1.9 2 2 2h14c1.1 0 2-.9 2-2V5c0-1.1-.9-2-2-2zM9 17H7v-7h2v7zm4 0h-2V7h2v10zm4 0h-2v-4h2v4z\"/>\n",
              "    </g>\n",
              "</svg>\n",
              "  </button>\n",
              "\n",
              "<style>\n",
              "  .colab-df-quickchart {\n",
              "      --bg-color: #E8F0FE;\n",
              "      --fill-color: #1967D2;\n",
              "      --hover-bg-color: #E2EBFA;\n",
              "      --hover-fill-color: #174EA6;\n",
              "      --disabled-fill-color: #AAA;\n",
              "      --disabled-bg-color: #DDD;\n",
              "  }\n",
              "\n",
              "  [theme=dark] .colab-df-quickchart {\n",
              "      --bg-color: #3B4455;\n",
              "      --fill-color: #D2E3FC;\n",
              "      --hover-bg-color: #434B5C;\n",
              "      --hover-fill-color: #FFFFFF;\n",
              "      --disabled-bg-color: #3B4455;\n",
              "      --disabled-fill-color: #666;\n",
              "  }\n",
              "\n",
              "  .colab-df-quickchart {\n",
              "    background-color: var(--bg-color);\n",
              "    border: none;\n",
              "    border-radius: 50%;\n",
              "    cursor: pointer;\n",
              "    display: none;\n",
              "    fill: var(--fill-color);\n",
              "    height: 32px;\n",
              "    padding: 0;\n",
              "    width: 32px;\n",
              "  }\n",
              "\n",
              "  .colab-df-quickchart:hover {\n",
              "    background-color: var(--hover-bg-color);\n",
              "    box-shadow: 0 1px 2px rgba(60, 64, 67, 0.3), 0 1px 3px 1px rgba(60, 64, 67, 0.15);\n",
              "    fill: var(--button-hover-fill-color);\n",
              "  }\n",
              "\n",
              "  .colab-df-quickchart-complete:disabled,\n",
              "  .colab-df-quickchart-complete:disabled:hover {\n",
              "    background-color: var(--disabled-bg-color);\n",
              "    fill: var(--disabled-fill-color);\n",
              "    box-shadow: none;\n",
              "  }\n",
              "\n",
              "  .colab-df-spinner {\n",
              "    border: 2px solid var(--fill-color);\n",
              "    border-color: transparent;\n",
              "    border-bottom-color: var(--fill-color);\n",
              "    animation:\n",
              "      spin 1s steps(1) infinite;\n",
              "  }\n",
              "\n",
              "  @keyframes spin {\n",
              "    0% {\n",
              "      border-color: transparent;\n",
              "      border-bottom-color: var(--fill-color);\n",
              "      border-left-color: var(--fill-color);\n",
              "    }\n",
              "    20% {\n",
              "      border-color: transparent;\n",
              "      border-left-color: var(--fill-color);\n",
              "      border-top-color: var(--fill-color);\n",
              "    }\n",
              "    30% {\n",
              "      border-color: transparent;\n",
              "      border-left-color: var(--fill-color);\n",
              "      border-top-color: var(--fill-color);\n",
              "      border-right-color: var(--fill-color);\n",
              "    }\n",
              "    40% {\n",
              "      border-color: transparent;\n",
              "      border-right-color: var(--fill-color);\n",
              "      border-top-color: var(--fill-color);\n",
              "    }\n",
              "    60% {\n",
              "      border-color: transparent;\n",
              "      border-right-color: var(--fill-color);\n",
              "    }\n",
              "    80% {\n",
              "      border-color: transparent;\n",
              "      border-right-color: var(--fill-color);\n",
              "      border-bottom-color: var(--fill-color);\n",
              "    }\n",
              "    90% {\n",
              "      border-color: transparent;\n",
              "      border-bottom-color: var(--fill-color);\n",
              "    }\n",
              "  }\n",
              "</style>\n",
              "\n",
              "  <script>\n",
              "    async function quickchart(key) {\n",
              "      const quickchartButtonEl =\n",
              "        document.querySelector('#' + key + ' button');\n",
              "      quickchartButtonEl.disabled = true;  // To prevent multiple clicks.\n",
              "      quickchartButtonEl.classList.add('colab-df-spinner');\n",
              "      try {\n",
              "        const charts = await google.colab.kernel.invokeFunction(\n",
              "            'suggestCharts', [key], {});\n",
              "      } catch (error) {\n",
              "        console.error('Error during call to suggestCharts:', error);\n",
              "      }\n",
              "      quickchartButtonEl.classList.remove('colab-df-spinner');\n",
              "      quickchartButtonEl.classList.add('colab-df-quickchart-complete');\n",
              "    }\n",
              "    (() => {\n",
              "      let quickchartButtonEl =\n",
              "        document.querySelector('#df-098876ca-0a34-4d0a-86fb-0a7321d8fe92 button');\n",
              "      quickchartButtonEl.style.display =\n",
              "        google.colab.kernel.accessAllowed ? 'block' : 'none';\n",
              "    })();\n",
              "  </script>\n",
              "</div>\n",
              "    </div>\n",
              "  </div>\n"
            ],
            "application/vnd.google.colaboratory.intrinsic+json": {
              "type": "dataframe",
              "variable_name": "df",
              "summary": "{\n  \"name\": \"df\",\n  \"rows\": 2499,\n  \"fields\": [\n    {\n      \"column\": \"price\",\n      \"properties\": {\n        \"dtype\": \"number\",\n        \"std\": 11962.17600583738,\n        \"min\": 25.0,\n        \"max\": 84900.0,\n        \"num_unique_values\": 789,\n        \"samples\": [\n          17750.0,\n          16200.0,\n          900.0\n        ],\n        \"semantic_type\": \"\",\n        \"description\": \"\"\n      }\n    },\n    {\n      \"column\": \"year\",\n      \"properties\": {\n        \"dtype\": \"number\",\n        \"std\": 3,\n        \"min\": 1973,\n        \"max\": 2020,\n        \"num_unique_values\": 30,\n        \"samples\": [\n          1984,\n          2000,\n          1994\n        ],\n        \"semantic_type\": \"\",\n        \"description\": \"\"\n      }\n    },\n    {\n      \"column\": \"mileage\",\n      \"properties\": {\n        \"dtype\": \"number\",\n        \"std\": 59752.03126222204,\n        \"min\": 7.0,\n        \"max\": 1017936.0,\n        \"num_unique_values\": 2437,\n        \"samples\": [\n          16293.0,\n          11088.0,\n          61428.0\n        ],\n        \"semantic_type\": \"\",\n        \"description\": \"\"\n      }\n    }\n  ]\n}"
            }
          },
          "metadata": {},
          "execution_count": 18
        }
      ]
    },
    {
      "cell_type": "markdown",
      "source": [
        "2. Maxmin normalize year and mileage."
      ],
      "metadata": {
        "id": "VCZhRMS0Asdr"
      },
      "id": "VCZhRMS0Asdr"
    },
    {
      "cell_type": "code",
      "source": [
        "from sklearn.neighbors import KNeighborsRegressor # Import the kNN regression tool\n",
        "\n",
        "# Maxmin normalization function:\n",
        "def maxmin(z):\n",
        "    z = (z-min(z))/(max(z)-min(z))\n",
        "    return(z)\n",
        "\n",
        "df['year'] = maxmin(df['year']) # maxmin normalize year variable\n",
        "df['mileage'] = maxmin(df['mileage']) # maxmin normalize mileage variable"
      ],
      "metadata": {
        "id": "nBOL6VGjAueI"
      },
      "id": "nBOL6VGjAueI",
      "execution_count": 21,
      "outputs": []
    },
    {
      "cell_type": "markdown",
      "source": [
        "3. Split the sample into ~80% for training and ~20% for evaluation."
      ],
      "metadata": {
        "id": "J4VvXLCsCHNG"
      },
      "id": "J4VvXLCsCHNG"
    },
    {
      "cell_type": "code",
      "source": [
        "import matplotlib.pyplot as plt\n",
        "\n",
        "y = df['price'] # Create target variable vector\n",
        "X = df.loc[:,['year','mileage']] # Create feature matrix\n",
        "X = X.apply(maxmin) # Normalize X\n",
        "\n",
        "# Split the sample:\n",
        "from sklearn.model_selection import train_test_split\n",
        "X_train, X_test, y_train, y_test = train_test_split(X,y,test_size=.2,random_state=100) # Split the sample 80 train/ 20 test"
      ],
      "metadata": {
        "id": "7iB9MHL9CNsy"
      },
      "id": "7iB9MHL9CNsy",
      "execution_count": 23,
      "outputs": []
    },
    {
      "cell_type": "markdown",
      "source": [
        "4. Use the  k NN algorithm and the training data to predict price using year and mileage for the test set for  k=3,10,25,50,100,300 . For each value of  k , compute the mean squared error and print a scatterplot showing the test value plotted against the predicted value. What patterns do you notice as you increase  k ?"
      ],
      "metadata": {
        "id": "Rkuk3OmxDmJh"
      },
      "id": "Rkuk3OmxDmJh"
    },
    {
      "cell_type": "code",
      "source": [],
      "metadata": {
        "id": "TtDgCLtaDwD1"
      },
      "id": "TtDgCLtaDwD1",
      "execution_count": null,
      "outputs": []
    },
    {
      "cell_type": "markdown",
      "id": "010b57f7-bf4f-4494-b54c-49c4f3ae3ab9",
      "metadata": {
        "id": "010b57f7-bf4f-4494-b54c-49c4f3ae3ab9"
      },
      "source": [
        "**Q2.** This question is a case study for $k$ nearest neighbor. The data for the question include:\n",
        "\n",
        "- age: age of the patient (years)\n",
        "- anaemia: decrease of red blood cells or hemoglobin (boolean)\n",
        "- high blood pressure: if the patient has hypertension (boolean)\n",
        "- creatinine phosphokinase (CPK): level of the CPK enzyme in the blood (mcg/L)\n",
        "- diabetes: if the patient has diabetes (boolean)\n",
        "- ejection fraction: percentage of blood leaving the heart at each contraction (percentage)\n",
        "- platelets: platelets in the blood (kiloplatelets/mL)\n",
        "- sex: woman or man (binary)\n",
        "- serum creatinine: level of serum creatinine in the blood (mg/dL)\n",
        "- serum sodium: level of serum sodium in the blood (mEq/L)\n",
        "- smoking: if the patient smokes or not (boolean)\n",
        "- time: follow-up period (days)\n",
        "- death event: if the patient deceased during the follow-up period (boolean)\n",
        "\n",
        "1. Load the `./data/heart_failure_clinical_records_dataset.csv`. Are there any `NA`'s to handle? use `.drop()` to remove `time` from the dataframe.\n",
        "2. Make a correlation matrix. What variables are strongly associated with a death event?\n",
        "3. For the dummy variables `anaemia`, `diabetes`, `high_blood_pressure`, `sex`, and `smoking`, compute a summary table of `DEATH_EVENT` grouped by the variable. For which variables does a higher proportion of the population die when the variable takes the value 1 rather than 0?\n",
        "4. On the basis of your answers from 2 and 3, build a matrix $X$ of the variables you think are most predictive of a death, and a variable $y$ equal to `DEATH_EVENT`.\n",
        "5. Maxmin normalize all of the variables in `X`.\n",
        "6. Split the sample into ~80% for training and ~20% for evaluation. (Try to use the same train/test split for the whole question, so that you're comparing apples to apples in the questions below.).\n",
        "7. Determine the optimal number of neighbors for a $k$NN regression for the variables you selected.\n",
        "8. OK, do steps 5 through 7 again, but use all of the variables (except `time`). Which model has a lower Sum of Squared Error? Which would you prefer to use in practice, if you had to predict `DEATH_EVENT`s? If you play with the selection of variables, how much does the SSE change for your fitted model on the test data? Are more variables always better? Explain your findings."
      ]
    },
    {
      "cell_type": "markdown",
      "id": "d457e190-d273-455f-b94f-62916cb5af1c",
      "metadata": {
        "id": "d457e190-d273-455f-b94f-62916cb5af1c"
      },
      "source": [
        "**Q3.** Let's do some very basic computer vision. We're going to import the MNIST handwritten digits data and $k$NN to predict values (i.e. \"see/read\").\n",
        "\n",
        "1. To load the data, run the following code in a chunk:\n",
        "```\n",
        "from keras.datasets import mnist\n",
        "df = mnist.load_data('minst.db')\n",
        "train,test = df\n",
        "X_train, y_train = train\n",
        "X_test, y_test = test\n",
        "```\n",
        "The `y_test` and `y_train` vectors, for each index `i`, tell you want number is written in the corresponding index in `X_train[i]` and `X_test[i]`. The value of `X_train[i]` and `X_test[i]`, however, is a 28$\\times$28 array whose entries contain values between 0 and 256. Each element of the matrix is essentially a \"pixel\" and the matrix encodes a representation of a number. To visualize this, run the following code to see the first ten numbers:\n",
        "```\n",
        "import matplotlib.pyplot as plt\n",
        "import numpy as np\n",
        "np.set_printoptions(edgeitems=30, linewidth=100000)\n",
        "for i in range(5):\n",
        "    print(y_test[i],'\\n') # Print the label\n",
        "    print(X_test[i],'\\n') # Print the matrix of values\n",
        "    plt.contourf(np.rot90(X_test[i].transpose())) # Make a contour plot of the matrix values\n",
        "    plt.show()\n",
        "```\n",
        "OK, those are the data: Labels attached to handwritten digits encoded as a matrix.\n",
        "\n",
        "2. What is the shape of `X_train` and `X_test`? What is the shape of `X_train[i]` and `X_test[i]` for each index `i`? What is the shape of `y_train` and `y_test`?\n",
        "3. Use Numpy's `.reshape()` method to covert the training and testing data from a matrix into an vector of features. So, `X_test[index].reshape((1,784))` will convert the $index$-th element of `X_test` into a $28\\times 28=784$-length row vector of values, rather than a matrix. Turn `X_train` into an $N \\times 784$ matrix $X$ that is suitable for scikit-learn's kNN classifier where $N$ is the number of observations and $784=28*28$ (you could use, for example, a `for` loop).\n",
        "4. Use the reshaped `X_test` and `y_test` data to create a $k$-nearest neighbor classifier of digit. What is the optimal number of neighbors $k$? If you can't determine this, play around with different values of $k$ for your classifier.\n",
        "5. For the optimal number of neighbors, how well does your predictor perform on the test set?\n",
        "6. So, this is how computers \"see.\" They convert an image into a matrix of values, that matrix becomes a vector in a dataset, and then we deploy ML tools on it as if it was any other kind of tabular data. To make sure you follow this, invent a way to represent a color photo in matrix form, and then describe how you could convert it into tabular data. (Hint: RGB color codes provide a method of encoding a numeric value that represents a color.)"
      ]
    },
    {
      "cell_type": "code",
      "execution_count": null,
      "id": "08952dbd-7ec8-4cbe-a9f7-0a45c5be2c5e",
      "metadata": {
        "id": "08952dbd-7ec8-4cbe-a9f7-0a45c5be2c5e"
      },
      "outputs": [],
      "source": [
        "**Q4.**"
      ]
    }
  ],
  "metadata": {
    "kernelspec": {
      "display_name": "Python 3 (ipykernel)",
      "language": "python",
      "name": "python3"
    },
    "language_info": {
      "codemirror_mode": {
        "name": "ipython",
        "version": 3
      },
      "file_extension": ".py",
      "mimetype": "text/x-python",
      "name": "python",
      "nbconvert_exporter": "python",
      "pygments_lexer": "ipython3",
      "version": "3.10.4"
    },
    "colab": {
      "provenance": []
    }
  },
  "nbformat": 4,
  "nbformat_minor": 5
}